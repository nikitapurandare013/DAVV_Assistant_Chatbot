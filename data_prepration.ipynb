{
 "cells": [
  {
   "cell_type": "code",
   "execution_count": null,
   "id": "182d1b84",
   "metadata": {},
   "outputs": [],
   "source": [
    "from langchain.text_splitter import RecursiveCharacterTextSplitter\n",
    "import json\n",
    "import os\n",
    "import faiss\n",
    "import numpy as np\n",
    "from sentence_transformers import SentenceTransformer\n",
    "import faiss"
   ]
  },
  {
   "cell_type": "code",
   "execution_count": null,
   "id": "66816e3a",
   "metadata": {},
   "outputs": [],
   "source": [
    "# Load your scraped JSON\n",
    "with open(\"davv_scraped_data.json\", \"r\", encoding=\"utf-8\") as f:\n",
    "    raw_data = json.load(f)\n",
    "\n",
    "# Initialize the chunker\n",
    "text_splitter = RecursiveCharacterTextSplitter(\n",
    "    chunk_size=500,\n",
    "    chunk_overlap=100,\n",
    "    separators=[\"\\n\\n\", \"\\n\", \".\", \" \"]\n",
    ")\n",
    "\n",
    "# Create chunked data\n",
    "chunked_data = []\n",
    "\n",
    "for doc in raw_data:\n",
    "    chunks = text_splitter.split_text(doc[\"content\"])\n",
    "    for chunk in chunks:\n",
    "        chunked_data.append({\n",
    "            \"url\": doc[\"url\"],\n",
    "            \"chunk\": chunk\n",
    "        })\n",
    "\n",
    "# Save chunked output\n",
    "with open(\"davv_chunked_data.json\", \"w\", encoding=\"utf-8\") as f:\n",
    "    json.dump(chunked_data, f, indent=2, ensure_ascii=False)"
   ]
  },
  {
   "cell_type": "code",
   "execution_count": null,
   "id": "373cfae2",
   "metadata": {},
   "outputs": [
    {
     "name": "stderr",
     "output_type": "stream",
     "text": [
      "d:\\DAVV_Assistant_Bot\\venv\\Lib\\site-packages\\tqdm\\auto.py:21: TqdmWarning: IProgress not found. Please update jupyter and ipywidgets. See https://ipywidgets.readthedocs.io/en/stable/user_install.html\n",
      "  from .autonotebook import tqdm as notebook_tqdm\n"
     ]
    },
    {
     "name": "stdout",
     "output_type": "stream",
     "text": [
      "✅ Total valid chunks found: 4463\n",
      "🚀 Loading embedding model...\n",
      "📍 Creating embeddings...\n"
     ]
    },
    {
     "name": "stderr",
     "output_type": "stream",
     "text": [
      "Batches: 100%|██████████| 140/140 [01:51<00:00,  1.25it/s]\n"
     ]
    },
    {
     "name": "stdout",
     "output_type": "stream",
     "text": [
      "✅ FAISS index and metadata saved successfully.\n"
     ]
    }
   ],
   "source": [
    "# Load chunked data\n",
    "with open(\"davv_chunked_data.json\", \"r\", encoding=\"utf-8\") as f:\n",
    "    raw_data = json.load(f)\n",
    "\n",
    "# Filter valid text chunks\n",
    "documents = [entry[\"chunk\"].strip() for entry in raw_data if entry.get(\"chunk\") and entry[\"chunk\"].strip()]\n",
    "print(f\"✅ Total valid chunks found: {len(documents)}\")\n",
    "\n",
    "if not documents:\n",
    "    raise ValueError(\"❌ No valid chunks found to embed!\")\n",
    "\n",
    "# Load sentence transformer model\n",
    "print(\"🚀 Loading embedding model...\")\n",
    "model = SentenceTransformer(\"all-MiniLM-L6-v2\")\n",
    "\n",
    "# Generate embeddings\n",
    "print(\"📍 Creating embeddings...\")\n",
    "embeddings = model.encode(documents, show_progress_bar=True, convert_to_numpy=True)\n",
    "\n",
    "# Create FAISS index\n",
    "dimension = embeddings.shape[1]\n",
    "index = faiss.IndexFlatL2(dimension)\n",
    "index.add(embeddings)\n",
    "\n",
    "# Save vector index + metadata\n",
    "faiss.write_index(index, \"davv_index.faiss\")\n",
    "\n",
    "# Save metadata\n",
    "with open(\"davv_metadata.json\", \"w\", encoding=\"utf-8\") as f:\n",
    "    json.dump(documents, f, ensure_ascii=False, indent=2)\n",
    "\n",
    "print(\"✅ FAISS index and metadata saved successfully.\")\n"
   ]
  },
  {
   "cell_type": "code",
   "execution_count": null,
   "id": "52b4f4b2",
   "metadata": {},
   "outputs": [
    {
     "name": "stderr",
     "output_type": "stream",
     "text": [
      "d:\\DAVV_Assistant_Bot\\venv\\Lib\\site-packages\\tqdm\\auto.py:21: TqdmWarning: IProgress not found. Please update jupyter and ipywidgets. See https://ipywidgets.readthedocs.io/en/stable/user_install.html\n",
      "  from .autonotebook import tqdm as notebook_tqdm\n"
     ]
    },
    {
     "name": "stdout",
     "output_type": "stream",
     "text": [
      "🔍 Loading model and index...\n",
      "📨 User query: full form of DAVV\n",
      "\n",
      "🔎 Top Matches:\n",
      "\n",
      "1. Latest at DAVV NEW Admission Notice : Advertisement NON CET 2024 03-06-2022 View Answer Books List for view answer book on 24.03.2022 Notice for Observation of Medical Courses Answer Sheet Dated From 16, Nov. to 17, Nov. - 2021 Important Links Result Upload Schedule MP Online Activities Exam Notices College Notices\n",
      "\n",
      "2. Latest at DAVV NEW Admission Notice : Advertisement NON CET 2024 03-06-2022 View Answer Books List for view answer book on 24.03.2022 Notice for Observation of Medical Courses Answer Sheet Dated From 16, Nov. to 17, Nov. - 2021 Important Links Result Upload Schedule MP Online Activities Exam Notices College Notices\n",
      "\n",
      "3. . It was established in 1964, by an Act of Legislature of Madhya Pradesh. DAVV is an affiliating State University whose jurisdiction includes seven tribal dominated districts of Indore division It is catering to the educational needs on one hand to the most industrially developed district of MP, Indore and on the other hand to the tribal and rural backward districts of the State\n",
      "\n",
      "📨 User query: admission process\n",
      "\n",
      "🔎 Top Matches:\n",
      "\n",
      "1. . All Schools/Institutes have complete academic autonomy and flexibility. The University student enrolment, profile and admission process for various courses is transparent to all stakeholders. Admissions are made through Computer Based Common Entrance Test (CET) for professional courses and merit-cum-entrance test in others. The admission tests are conducted in several cities of the country for various courses\n",
      "\n",
      "2. . All Schools/Institutes have complete academic autonomy and flexibility. The University student enrolment, profile and admission process for various courses is transparent to all stakeholders. Admissions are made through Computer Based Common Entrance Test (CET) for professional courses and merit-cum-entrance test in others. The admission tests are conducted in several cities of the country for various courses\n",
      "\n",
      "3. . All Schools/Institutes have complete academic autonomy and flexibility. The University student enrolment, profile and admission process for various courses is transparent to all stakeholders. Admissions are made through Computer Based Common Entrance Test (CET) for professional courses and merit-cum-entrance test in others. The admission tests are conducted in several cities of the country for various courses\n",
      "\n"
     ]
    }
   ],
   "source": [
    "# Load model and index\n",
    "print(\"🔍 Loading model and index...\")\n",
    "model = SentenceTransformer(\"all-MiniLM-L6-v2\")\n",
    "index = faiss.read_index(\"davv_index.faiss\")\n",
    "\n",
    "# Load metadata (text chunks)\n",
    "with open(\"davv_metadata.json\", \"r\", encoding=\"utf-8\") as f:\n",
    "    chunks = json.load(f)\n",
    "\n",
    "# Function to query\n",
    "def search_query(user_query, top_k=3):\n",
    "    print(f\"📨 User query: {user_query}\")\n",
    "    query_embedding = model.encode([user_query], convert_to_numpy=True)\n",
    "    distances, indices = index.search(query_embedding, top_k)\n",
    "\n",
    "    results = []\n",
    "    for idx in indices[0]:\n",
    "        if idx < len(chunks):\n",
    "            results.append(chunks[idx])\n",
    "    return results\n",
    "\n",
    "# Example \n",
    "if __name__ == \"__main__\":\n",
    "    while True:\n",
    "        query = input(\"\\nAsk DAVV Assistant something (or type 'exit'): \")\n",
    "        if query.lower() == \"exit\":\n",
    "            break\n",
    "        results = search_query(query)\n",
    "        print(\"\\n🔎 Top Matches:\\n\")\n",
    "        for i, res in enumerate(results, 1):\n",
    "            print(f\"{i}. {res}\\n\")\n"
   ]
  },
  {
   "cell_type": "code",
   "execution_count": null,
   "id": "56617064",
   "metadata": {},
   "outputs": [
    {
     "name": "stdout",
     "output_type": "stream",
     "text": [
      "Quantum computing is a revolutionary technology that uses the principles of quantum mechanics to perform calculations and operations on data. It's a new paradigm for computing that has the potential to solve complex problems that are currently unsolvable or require an unfeasible amount of time to solve using traditional computers.\n",
      "\n",
      "**Classical vs. Quantum Computing**\n",
      "\n",
      "Classical computers use bits, which are either 0 or 1, to process information. These bits are used to perform calculations and operations, but they are limited by their binary nature. Quantum computers, on the other hand, use quantum bits or qubits, which can exist in multiple states simultaneously, known as superposition. This means that a qubit can represent both 0 and 1 at the same time, allowing for much faster and more efficient processing of certain types of calculations.\n",
      "\n",
      "**Key principles of quantum computing:**\n",
      "\n",
      "1. **Superposition**: Qubits can exist in multiple states simultaneously, allowing for the exploration of multiple solutions in parallel.\n",
      "2. **Entanglement**: Qubits can become \"entangled,\" meaning that their properties are connected, even when separated by large distances.\n",
      "3. **Quantum parallelism**: Quantum computers can perform many calculations simultaneously, thanks to the principles of superposition and entanglement.\n",
      "\n",
      "**How quantum computing works:**\n",
      "\n",
      "1. **Quantum circuits**: Quantum computers use quantum circuits, which are the quantum equivalent of digital circuits. These circuits are made up of quantum gates, which perform operations on qubits.\n",
      "2. **Quantum algorithms**: Quantum algorithms are programs that run on quantum computers, taking advantage of quantum parallelism to solve specific problems.\n",
      "3. **Quantum measurement**: When a qubit is measured, its state is collapsed to a single value (0 or 1), which can be used to obtain a solution to a problem.\n",
      "\n",
      "**Potential applications of quantum computing:**\n",
      "\n",
      "1. **Cryptography**: Quantum computers can potentially break certain types of classical encryption, but they can also be used to create unbreakable quantum encryption methods.\n",
      "2. **Optimization**: Quantum computers can be used to optimize complex systems, such as logistics, finance, and energy management.\n",
      "3. **Materials science**: Quantum computers can simulate the behavior of materials at the atomic level, leading to breakthroughs in fields like chemistry and materials science.\n",
      "4. **Artificial intelligence**: Quantum computers can be used to speed up machine learning algorithms, leading to more accurate and efficient AI systems.\n",
      "\n",
      "**Challenges and current state:**\n",
      "\n",
      "1. **Error correction**: Quantum computers are prone to errors due to the fragile nature of qubits. Developing robust error correction methods is an active area of research.\n",
      "2. **Quantum noise**: Quantum computers are sensitive to noise, which can cause errors and instability.\n",
      "3. **Scalability**: Currently, most quantum computers are small-scale and can only perform a limited number of operations. Scaling up to larger, more practical systems is a significant challenge.\n",
      "\n",
      "Quantum computing is a rapidly evolving field, with many organizations and researchers working to develop practical applications and overcome the challenges associated with this technology. While we're still in the early days of quantum computing, the potential for breakthroughs and innovations is vast and exciting.\n"
     ]
    }
   ],
   "source": [
    "from langchain_groq import ChatGroq\n",
    "\n",
    "llm = ChatGroq(\n",
    "    groq_api_key=\"groq_api_key\",\n",
    "    model_name=\"llama-3.3-70b-specdec\"\n",
    ")\n",
    "\n",
    "response = llm.invoke(\"What is quantum computing?\")\n",
    "print(response.content)"
   ]
  },
  {
   "cell_type": "code",
   "execution_count": null,
   "id": "84432479",
   "metadata": {},
   "outputs": [],
   "source": []
  }
 ],
 "metadata": {
  "kernelspec": {
   "display_name": "venv",
   "language": "python",
   "name": "python3"
  },
  "language_info": {
   "codemirror_mode": {
    "name": "ipython",
    "version": 3
   },
   "file_extension": ".py",
   "mimetype": "text/x-python",
   "name": "python",
   "nbconvert_exporter": "python",
   "pygments_lexer": "ipython3",
   "version": "3.12.4"
  }
 },
 "nbformat": 4,
 "nbformat_minor": 5
}
